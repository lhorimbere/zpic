{
 "cells": [
  {
   "cell_type": "markdown",
   "id": "8d30858d",
   "metadata": {},
   "source": [
    "## Kelvin-Helmholtz Notebook"
   ]
  },
  {
   "cell_type": "markdown",
   "id": "493d47a8",
   "metadata": {},
   "source": [
    "First, we set up the simulation parameters and specify the species involved. "
   ]
  },
  {
   "cell_type": "code",
   "execution_count": 1,
   "id": "81f0a5d4",
   "metadata": {},
   "outputs": [],
   "source": [
    "import em2d as zpic\n",
    "\n",
    "#Simulation box\n",
    "nx  = [ 200, 200]\n",
    "box = [ 10.0, 10.0 ]\n",
    "\n",
    "#Time parameters\n",
    "dt = 0.014\n",
    "tmax = 200.0\n",
    "\n",
    "#Displays only part of the box (required for phasespace data)\n",
    "sim_range = [[0,box[0]],[-0.3,0.3]]\n",
    "\n",
    "#Stores zdf data for every ndump timesteps\n",
    "ndump = 10"
   ]
  },
  {
   "cell_type": "markdown",
   "id": "94de426a",
   "metadata": {},
   "source": [
    "Next we need to describe the particle species in the simulation. In this example, we are using 4 species for both the ions and electrons:"
   ]
  },
  {
   "cell_type": "code",
   "execution_count": 2,
   "id": "2defa704",
   "metadata": {},
   "outputs": [],
   "source": [
    "import numpy as np\n",
    "\n",
    "# Particles per cell\n",
    "ppc = [6,6]\n",
    "\n",
    "#Plasma KHI Velocity Shear Positions\n",
    "x1 = box[0] / 4\n",
    "x2 = box[0] * (3 / 4)\n",
    "\n",
    "#Center Density Function\n",
    "def nx1(x) :\n",
    "    return np.heaviside((x-x1), 0) - np.heaviside((x-x2), 1);\n",
    "\n",
    "#Sides Density Function\n",
    "def nx2(x) :\n",
    "    return np.heaviside((x1-x), 1) + np.heaviside((x-x2), 1);\n",
    "\n",
    "#Initialize densities (default normalization: n = 1)\n",
    "density1 = zpic.Density( type = \"custom\", custom_x = nx1)\n",
    "density2 = zpic.Density( type = \"custom\", custom_x = nx2)\n",
    "\n",
    "#Mass-to-Charge Ratio\n",
    "m_q = [-1.0, 25]\n",
    "\n",
    "# Initialize fluid and thermal velocities \n",
    "ufl0 = np.array([0.0,    0.1,  0.0])\n",
    "ufl1 = -1 * ufl0\n",
    "eth = 0.005\n",
    "uth0 = [np.sqrt(abs(2*eth/m_q[0])),np.sqrt(abs(2*eth/m_q[0])),np.sqrt(abs(2*eth/m_q[0]))]\n",
    "uth1 = [np.sqrt(abs(2*eth/m_q[1])),np.sqrt(abs(2*eth/m_q[1])),np.sqrt(abs(2*eth/m_q[1]))]\n",
    "ufl_a = [list(ufl0), list(ufl1)]\n",
    "\n",
    "#ZDF labels for all the species\n",
    "names = [\"up electrons\", \"up ions\", \"down electrons\", \"down ions\"]\n",
    "speciesn = []\n",
    "\n",
    "#Initialize species\n",
    "speciesn.append( zpic.Species( names[0], m_q[0], ppc, ufl = list(ufl_a[0]) , uth = uth0, density = density1 ))\n",
    "speciesn.append( zpic.Species( names[1], m_q[1], ppc, ufl = list(ufl_a[0]), uth = uth1, density = density1 ))\n",
    "speciesn.append( zpic.Species( names[2], m_q[0], ppc, ufl = list(ufl_a[1]) , uth = uth0, density = density2 ))\n",
    "speciesn.append( zpic.Species( names[3], m_q[1], ppc, ufl = list(ufl_a[1]), uth = uth1, density = density2 ))\n",
    "\n",
    "#Gif Animation Description \n",
    "gif_description = 'm to e = ' + str(m_q) + '_ufl = ' + str(list((ufl_a))) + '_eth = ' + str(eth) + '_ppc = ' + str(ppc) + '_box = ' + str(box) + '_nx = ' + str(nx) + '_dt = ' + str(dt) + '.gif'"
   ]
  },
  {
   "cell_type": "markdown",
   "id": "90fa0463",
   "metadata": {},
   "source": [
    "## Writing diagnostic output to disk\n",
    "\n",
    "You can run ZPIC inside the notebook (or any interactive Python/iPython session) and access all the simulation data directly in memory, without writing any output to disk, as described in other notebooks in this folder. For most situations this is the recommended way of using the code. However, if you your simulation takes a long time to compute, you may want to write diagnostic information to disk for post-processing later.\n",
    "\n",
    "To do this you must define the required diagnostics in a python function that accepts as a single argument a simulation object. This routine will be called once per iteration, and it can access global variables defined in the Python code, e.g.:"
   ]
  },
  {
   "cell_type": "code",
   "execution_count": 3,
   "id": "3a71367e",
   "metadata": {},
   "outputs": [],
   "source": [
    "def rep( sim ):\n",
    "    # sim.n has the current simulation iteration\n",
    "    if (sim.n % ndump == 0):\n",
    "        \n",
    "        #Electric Field Data\n",
    "        sim.emf.report(\"E\", 0) #x\n",
    "        sim.emf.report(\"E\", 1) #y\n",
    "        sim.emf.report(\"E\", 2) #z\n",
    "        \n",
    "        #Magnetic Field Data\n",
    "        sim.emf.report(\"B\", 0)\n",
    "        sim.emf.report(\"B\", 1)\n",
    "        sim.emf.report(\"B\", 2)\n",
    "        \n",
    "        #Particle Position and Velocity Data\n",
    "        speciesn[0].report(\"particles\")\n",
    "        speciesn[1].report(\"particles\")\n",
    "        speciesn[2].report(\"particles\")\n",
    "        speciesn[3].report(\"particles\")\n",
    "        \n",
    "        #Charge Density Data\n",
    "        speciesn[0].report(\"charge\")\n",
    "        speciesn[1].report(\"charge\")\n",
    "        speciesn[2].report(\"charge\")\n",
    "        speciesn[3].report(\"charge\")\n",
    "        \n",
    "        #Phasespace Density Data\n",
    "        speciesn[0].report(\"pha\", quants = [\"x1\", \"u2\"], pha_nx = nx, pha_range = sim_range)\n",
    "        speciesn[1].report(\"pha\", quants = [\"x1\", \"u2\"], pha_nx = nx, pha_range = sim_range)\n",
    "        speciesn[2].report(\"pha\", quants = [\"x1\", \"u2\"], pha_nx = nx, pha_range = sim_range)\n",
    "        speciesn[3].report(\"pha\", quants = [\"x1\", \"u2\"], pha_nx = nx, pha_range = sim_range)\n",
    "        \n",
    "        speciesn[0].report(\"pha\", quants = [\"x2\", \"u1\"], pha_nx = nx, pha_range = sim_range)\n",
    "        speciesn[1].report(\"pha\", quants = [\"x2\", \"u1\"], pha_nx = nx, pha_range = sim_range)\n",
    "        speciesn[2].report(\"pha\", quants = [\"x2\", \"u1\"], pha_nx = nx, pha_range = sim_range)\n",
    "        speciesn[3].report(\"pha\", quants = [\"x2\", \"u1\"], pha_nx = nx, pha_range = sim_range)\n",
    "        \n",
    "        speciesn[0].report(\"pha\", quants = [\"x2\", \"u2\"], pha_nx = nx, pha_range = sim_range)\n",
    "        speciesn[1].report(\"pha\", quants = [\"x2\", \"u2\"], pha_nx = nx, pha_range = sim_range)\n",
    "        speciesn[2].report(\"pha\", quants = [\"x2\", \"u2\"], pha_nx = nx, pha_range = sim_range)\n",
    "        speciesn[3].report(\"pha\", quants = [\"x2\", \"u2\"], pha_nx = nx, pha_range = sim_range)\n",
    "        \n",
    "        speciesn[0].report(\"pha\", quants = [\"x1\", \"u1\"], pha_nx = nx, pha_range = sim_range)\n",
    "        speciesn[1].report(\"pha\", quants = [\"x1\", \"u1\"], pha_nx = nx, pha_range = sim_range)\n",
    "        speciesn[2].report(\"pha\", quants = [\"x1\", \"u1\"], pha_nx = nx, pha_range = sim_range)\n",
    "        speciesn[3].report(\"pha\", quants = [\"x1\", \"u1\"], pha_nx = nx, pha_range = sim_range)\n",
    "\n",
    "#Initialize simulation\n",
    "sim = zpic.Simulation( nx, box, dt, species = speciesn, report = rep )"
   ]
  },
  {
   "cell_type": "markdown",
   "id": "7d6d74ac",
   "metadata": {},
   "source": [
    "We can now add an external magnetic field before running the simulation. "
   ]
  },
  {
   "cell_type": "code",
   "execution_count": 4,
   "id": "4b80a0a9",
   "metadata": {},
   "outputs": [],
   "source": [
    "#Magnetic Field Function\n",
    "\n",
    "#ix, iy = cell index by which field is being calculated\n",
    "#dx, dy = cell size (in sim units)\n",
    "def extB(ix,dx,iy,dy):\n",
    "    \n",
    "    x = ix*dx\n",
    "    \n",
    "    a = 0.01\n",
    "    p = box[1]\n",
    "    bz = a#*np.sin((2*np.pi / p)*x);\n",
    "\n",
    "    return [0, 1, bz]\n",
    "\n",
    "#Initialize a custom magnetic field\n",
    "ext = zpic.ExternalField(B_type = 'custom', B_custom = extB )\n",
    "\n",
    "#Initialize a uniform magnetic field\n",
    "#Bz0 = 1\n",
    "#ext = zpic.ExternalField(B_type = 'uniform', B_0 = [0.0, 0.0, Bz0])\n",
    "\n",
    "sim.emf.set_ext_fld( ext )"
   ]
  },
  {
   "cell_type": "markdown",
   "id": "d81ddd70",
   "metadata": {},
   "source": [
    "To run the simulation use the run method, giving the final time as the sole parameter:"
   ]
  },
  {
   "cell_type": "code",
   "execution_count": null,
   "id": "c3fb9de3",
   "metadata": {},
   "outputs": [
    {
     "name": "stdout",
     "output_type": "stream",
     "text": [
      "\n",
      "Running simulation up to t = 200 ...\n",
      "n = 916, t = 12.824\r"
     ]
    }
   ],
   "source": [
    "sim.run(tmax)"
   ]
  },
  {
   "cell_type": "code",
   "execution_count": null,
   "id": "83d4293b",
   "metadata": {},
   "outputs": [],
   "source": []
  }
 ],
 "metadata": {
  "kernelspec": {
   "display_name": "Python 3 (ipykernel)",
   "language": "python",
   "name": "python3"
  },
  "language_info": {
   "codemirror_mode": {
    "name": "ipython",
    "version": 3
   },
   "file_extension": ".py",
   "mimetype": "text/x-python",
   "name": "python",
   "nbconvert_exporter": "python",
   "pygments_lexer": "ipython3",
   "version": "3.8.10"
  }
 },
 "nbformat": 4,
 "nbformat_minor": 5
}
